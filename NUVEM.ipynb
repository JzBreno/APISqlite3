{
  "cells": [
    {
      "cell_type": "markdown",
      "metadata": {
        "id": "view-in-github",
        "colab_type": "text"
      },
      "source": [
        "<a href=\"https://colab.research.google.com/github/JzBreno/APISqlite3/blob/main/NUVEM.ipynb\" target=\"_parent\"><img src=\"https://colab.research.google.com/assets/colab-badge.svg\" alt=\"Open In Colab\"/></a>"
      ]
    },
    {
      "cell_type": "markdown",
      "metadata": {
        "id": "uDq_Xjc_1r6f"
      },
      "source": [
        "Importando Pacotes"
      ]
    },
    {
      "cell_type": "code",
      "execution_count": 38,
      "metadata": {
        "id": "NqYt1loj1YfM"
      },
      "outputs": [],
      "source": [
        "import pandas as pd\n",
        "import numpy as np\n",
        "import matplotlib.pyplot as plt\n",
        "from sklearn.linear_model import LinearRegression\n",
        "from sklearn.model_selection import train_test_split\n",
        "from sklearn.preprocessing import StandardScaler"
      ]
    },
    {
      "cell_type": "markdown",
      "metadata": {
        "id": "ajCuGaL_afz4"
      },
      "source": [
        "Criando DataFrame para visualização e limpeza de dados"
      ]
    },
    {
      "cell_type": "code",
      "execution_count": 39,
      "metadata": {
        "id": "7I3RktbP4kdB"
      },
      "outputs": [],
      "source": [
        "caminho_csv = '/content/sample_data/relatoriodoparquedeiluminacaopublica.xlsx'\n",
        "df = pd.read_excel(caminho_csv)"
      ]
    },
    {
      "cell_type": "markdown",
      "metadata": {
        "id": "yJl_kozSan0H"
      },
      "source": [
        "checando cabeçalhos"
      ]
    },
    {
      "cell_type": "code",
      "execution_count": 40,
      "metadata": {
        "colab": {
          "base_uri": "https://localhost:8080/"
        },
        "id": "EpDnCB9k47U2",
        "outputId": "583a0aec-5de7-47d4-c162-e593ed0c0ecf"
      },
      "outputs": [
        {
          "output_type": "stream",
          "name": "stdout",
          "text": [
            "<class 'pandas.core.frame.DataFrame'>\n",
            "RangeIndex: 182514 entries, 0 to 182513\n",
            "Data columns (total 15 columns):\n",
            " #   Column                      Non-Null Count   Dtype \n",
            "---  ------                      --------------   ----- \n",
            " 0   CÓDIGO_DE_PONTO_DE_SERVIÇO  182514 non-null  object\n",
            " 1   PONTO_DE_SERVIÇO_X          182514 non-null  object\n",
            " 2   PONTE_DE_SERVIÇO_Y          182514 non-null  object\n",
            " 3   REGIÃO                      182514 non-null  object\n",
            " 4   NATUREZA_LOGRADOURO         182514 non-null  object\n",
            " 5   DESIGNAÇÃO_LOGRADOURO       182514 non-null  object\n",
            " 6   DESIGNAÇÃO_BAIRRO           182514 non-null  object\n",
            " 7   POSTE                       182514 non-null  object\n",
            " 8   LÂMPADA                     182514 non-null  object\n",
            " 9   POTÊNCIA_NOMINAL            182514 non-null  int64 \n",
            " 10  POTÊNCIA_CONSUMIDA          182514 non-null  int64 \n",
            " 11  FAMILIA_LÂMPADA             182514 non-null  object\n",
            " 12  CÓDIGO_ALIMENTAÇÃO          182514 non-null  object\n",
            " 13  ALIMENTAÇÃO                 182514 non-null  object\n",
            " 14  NÚMERO_ORDEM                182514 non-null  int64 \n",
            "dtypes: int64(3), object(12)\n",
            "memory usage: 20.9+ MB\n"
          ]
        }
      ],
      "source": [
        "df.info()#checando informações e cabeçalhos"
      ]
    },
    {
      "cell_type": "code",
      "execution_count": 41,
      "metadata": {
        "colab": {
          "base_uri": "https://localhost:8080/"
        },
        "id": "aMP5iGwIaxq_",
        "outputId": "1cc1498f-2a61-4cde-ceae-580bd2a14fde"
      },
      "outputs": [
        {
          "output_type": "execute_result",
          "data": {
            "text/plain": [
              "(182514,)"
            ]
          },
          "metadata": {},
          "execution_count": 41
        }
      ],
      "source": [
        "df['POTÊNCIA_NOMINAL'].shape #usando potencia nominal para checar quantidade de entradas"
      ]
    },
    {
      "cell_type": "markdown",
      "metadata": {
        "id": "pyp0j8NImAvf"
      },
      "source": [
        "checando tipos"
      ]
    },
    {
      "cell_type": "code",
      "execution_count": 42,
      "metadata": {
        "colab": {
          "base_uri": "https://localhost:8080/",
          "height": 554
        },
        "id": "yCm7vRqlfvts",
        "outputId": "a1b2472e-7c5e-4e7c-860c-277a0af5d8ad"
      },
      "outputs": [
        {
          "output_type": "execute_result",
          "data": {
            "text/plain": [
              "CÓDIGO_DE_PONTO_DE_SERVIÇO    object\n",
              "PONTO_DE_SERVIÇO_X            object\n",
              "PONTE_DE_SERVIÇO_Y            object\n",
              "REGIÃO                        object\n",
              "NATUREZA_LOGRADOURO           object\n",
              "DESIGNAÇÃO_LOGRADOURO         object\n",
              "DESIGNAÇÃO_BAIRRO             object\n",
              "POSTE                         object\n",
              "LÂMPADA                       object\n",
              "POTÊNCIA_NOMINAL               int64\n",
              "POTÊNCIA_CONSUMIDA             int64\n",
              "FAMILIA_LÂMPADA               object\n",
              "CÓDIGO_ALIMENTAÇÃO            object\n",
              "ALIMENTAÇÃO                   object\n",
              "NÚMERO_ORDEM                   int64\n",
              "dtype: object"
            ],
            "text/html": [
              "<div>\n",
              "<style scoped>\n",
              "    .dataframe tbody tr th:only-of-type {\n",
              "        vertical-align: middle;\n",
              "    }\n",
              "\n",
              "    .dataframe tbody tr th {\n",
              "        vertical-align: top;\n",
              "    }\n",
              "\n",
              "    .dataframe thead th {\n",
              "        text-align: right;\n",
              "    }\n",
              "</style>\n",
              "<table border=\"1\" class=\"dataframe\">\n",
              "  <thead>\n",
              "    <tr style=\"text-align: right;\">\n",
              "      <th></th>\n",
              "      <th>0</th>\n",
              "    </tr>\n",
              "  </thead>\n",
              "  <tbody>\n",
              "    <tr>\n",
              "      <th>CÓDIGO_DE_PONTO_DE_SERVIÇO</th>\n",
              "      <td>object</td>\n",
              "    </tr>\n",
              "    <tr>\n",
              "      <th>PONTO_DE_SERVIÇO_X</th>\n",
              "      <td>object</td>\n",
              "    </tr>\n",
              "    <tr>\n",
              "      <th>PONTE_DE_SERVIÇO_Y</th>\n",
              "      <td>object</td>\n",
              "    </tr>\n",
              "    <tr>\n",
              "      <th>REGIÃO</th>\n",
              "      <td>object</td>\n",
              "    </tr>\n",
              "    <tr>\n",
              "      <th>NATUREZA_LOGRADOURO</th>\n",
              "      <td>object</td>\n",
              "    </tr>\n",
              "    <tr>\n",
              "      <th>DESIGNAÇÃO_LOGRADOURO</th>\n",
              "      <td>object</td>\n",
              "    </tr>\n",
              "    <tr>\n",
              "      <th>DESIGNAÇÃO_BAIRRO</th>\n",
              "      <td>object</td>\n",
              "    </tr>\n",
              "    <tr>\n",
              "      <th>POSTE</th>\n",
              "      <td>object</td>\n",
              "    </tr>\n",
              "    <tr>\n",
              "      <th>LÂMPADA</th>\n",
              "      <td>object</td>\n",
              "    </tr>\n",
              "    <tr>\n",
              "      <th>POTÊNCIA_NOMINAL</th>\n",
              "      <td>int64</td>\n",
              "    </tr>\n",
              "    <tr>\n",
              "      <th>POTÊNCIA_CONSUMIDA</th>\n",
              "      <td>int64</td>\n",
              "    </tr>\n",
              "    <tr>\n",
              "      <th>FAMILIA_LÂMPADA</th>\n",
              "      <td>object</td>\n",
              "    </tr>\n",
              "    <tr>\n",
              "      <th>CÓDIGO_ALIMENTAÇÃO</th>\n",
              "      <td>object</td>\n",
              "    </tr>\n",
              "    <tr>\n",
              "      <th>ALIMENTAÇÃO</th>\n",
              "      <td>object</td>\n",
              "    </tr>\n",
              "    <tr>\n",
              "      <th>NÚMERO_ORDEM</th>\n",
              "      <td>int64</td>\n",
              "    </tr>\n",
              "  </tbody>\n",
              "</table>\n",
              "</div><br><label><b>dtype:</b> object</label>"
            ]
          },
          "metadata": {},
          "execution_count": 42
        }
      ],
      "source": [
        "df.dtypes #analisando tipos de dados do nosso dataframe"
      ]
    },
    {
      "cell_type": "markdown",
      "metadata": {
        "id": "71HkDbuvl0Zx"
      },
      "source": [
        "checando se há ausencias"
      ]
    },
    {
      "cell_type": "code",
      "execution_count": 43,
      "metadata": {
        "colab": {
          "base_uri": "https://localhost:8080/"
        },
        "id": "r1XRYgMogXbY",
        "outputId": "45f43aee-9abb-49d7-fe76-7bec3a875c11"
      },
      "outputs": [
        {
          "output_type": "stream",
          "name": "stdout",
          "text": [
            "CÓDIGO_DE_PONTO_DE_SERVIÇO    0\n",
            "PONTO_DE_SERVIÇO_X            0\n",
            "PONTE_DE_SERVIÇO_Y            0\n",
            "REGIÃO                        0\n",
            "NATUREZA_LOGRADOURO           0\n",
            "DESIGNAÇÃO_LOGRADOURO         0\n",
            "DESIGNAÇÃO_BAIRRO             0\n",
            "POSTE                         0\n",
            "LÂMPADA                       0\n",
            "POTÊNCIA_NOMINAL              0\n",
            "POTÊNCIA_CONSUMIDA            0\n",
            "FAMILIA_LÂMPADA               0\n",
            "CÓDIGO_ALIMENTAÇÃO            0\n",
            "ALIMENTAÇÃO                   0\n",
            "NÚMERO_ORDEM                  0\n",
            "dtype: int64\n"
          ]
        }
      ],
      "source": [
        "nulos = df.isnull().sum() #checando quantos dados nulos tem cada variavel e agrupando pelos cabeçalhos\n",
        "print(nulos)#printando resultado, percebemos que tem 0 entradas nulas"
      ]
    },
    {
      "cell_type": "code",
      "execution_count": 44,
      "metadata": {
        "colab": {
          "base_uri": "https://localhost:8080/",
          "height": 458
        },
        "id": "DORkzhxpr84R",
        "outputId": "78ccb9c7-f869-43a9-9f37-817d17c81d09"
      },
      "outputs": [
        {
          "output_type": "execute_result",
          "data": {
            "text/plain": [
              "0         400\n",
              "1         400\n",
              "2         400\n",
              "3         150\n",
              "4         150\n",
              "         ... \n",
              "182509    250\n",
              "182510     70\n",
              "182511    150\n",
              "182512    150\n",
              "182513    150\n",
              "Name: POTÊNCIA_NOMINAL, Length: 182514, dtype: int64"
            ],
            "text/html": [
              "<div>\n",
              "<style scoped>\n",
              "    .dataframe tbody tr th:only-of-type {\n",
              "        vertical-align: middle;\n",
              "    }\n",
              "\n",
              "    .dataframe tbody tr th {\n",
              "        vertical-align: top;\n",
              "    }\n",
              "\n",
              "    .dataframe thead th {\n",
              "        text-align: right;\n",
              "    }\n",
              "</style>\n",
              "<table border=\"1\" class=\"dataframe\">\n",
              "  <thead>\n",
              "    <tr style=\"text-align: right;\">\n",
              "      <th></th>\n",
              "      <th>POTÊNCIA_NOMINAL</th>\n",
              "    </tr>\n",
              "  </thead>\n",
              "  <tbody>\n",
              "    <tr>\n",
              "      <th>0</th>\n",
              "      <td>400</td>\n",
              "    </tr>\n",
              "    <tr>\n",
              "      <th>1</th>\n",
              "      <td>400</td>\n",
              "    </tr>\n",
              "    <tr>\n",
              "      <th>2</th>\n",
              "      <td>400</td>\n",
              "    </tr>\n",
              "    <tr>\n",
              "      <th>3</th>\n",
              "      <td>150</td>\n",
              "    </tr>\n",
              "    <tr>\n",
              "      <th>4</th>\n",
              "      <td>150</td>\n",
              "    </tr>\n",
              "    <tr>\n",
              "      <th>...</th>\n",
              "      <td>...</td>\n",
              "    </tr>\n",
              "    <tr>\n",
              "      <th>182509</th>\n",
              "      <td>250</td>\n",
              "    </tr>\n",
              "    <tr>\n",
              "      <th>182510</th>\n",
              "      <td>70</td>\n",
              "    </tr>\n",
              "    <tr>\n",
              "      <th>182511</th>\n",
              "      <td>150</td>\n",
              "    </tr>\n",
              "    <tr>\n",
              "      <th>182512</th>\n",
              "      <td>150</td>\n",
              "    </tr>\n",
              "    <tr>\n",
              "      <th>182513</th>\n",
              "      <td>150</td>\n",
              "    </tr>\n",
              "  </tbody>\n",
              "</table>\n",
              "<p>182514 rows × 1 columns</p>\n",
              "</div><br><label><b>dtype:</b> int64</label>"
            ]
          },
          "metadata": {},
          "execution_count": 44
        }
      ],
      "source": [
        "df['POTÊNCIA_NOMINAL']#analisando potencia\n"
      ]
    },
    {
      "cell_type": "code",
      "execution_count": 45,
      "metadata": {
        "colab": {
          "base_uri": "https://localhost:8080/"
        },
        "id": "g-ygFksMslW-",
        "outputId": "71a150aa-2a24-4d05-d606-cf043bf7e730"
      },
      "outputs": [
        {
          "output_type": "stream",
          "name": "stdout",
          "text": [
            "POTÊNCIA_NOMINAL\n",
            "70      63798\n",
            "150     49226\n",
            "250     30678\n",
            "400     26740\n",
            "100      9833\n",
            "1000      849\n",
            "600       619\n",
            "35        184\n",
            "11        138\n",
            "32         87\n",
            "14         67\n",
            "50         60\n",
            "12         50\n",
            "9          48\n",
            "46         48\n",
            "17         38\n",
            "15         16\n",
            "290        11\n",
            "30          9\n",
            "18          5\n",
            "13          5\n",
            "25          3\n",
            "45          1\n",
            "7           1\n",
            "Name: count, dtype: int64\n"
          ]
        }
      ],
      "source": [
        "contagem_potencia = df['POTÊNCIA_NOMINAL'].value_counts() #checando contagem e analisando quantas variações de potencia existem na base\n",
        "print(contagem_potencia)#printando potencias"
      ]
    },
    {
      "cell_type": "markdown",
      "metadata": {
        "id": "mbAnVDLP038F"
      },
      "source": [
        "Separando valores em listas para melhor tratamento e plotagem do grafico"
      ]
    },
    {
      "cell_type": "code",
      "execution_count": 46,
      "metadata": {
        "colab": {
          "base_uri": "https://localhost:8080/",
          "height": 472
        },
        "id": "d2ncHhVhuapP",
        "outputId": "cf25f1e3-3594-4a15-e080-7ffd15b8dd9b"
      },
      "outputs": [
        {
          "output_type": "display_data",
          "data": {
            "text/plain": [
              "<Figure size 640x480 with 1 Axes>"
            ],
            "image/png": "[encoded data removed]"
          },
          "metadata": {}
        }
      ],
      "source": [
        "valores = [70, 150, 250, 400, 100, 1000, 600, 35, 11, 32, 14, 50, 12, 9, 46, 17, 15, 290, 30, 18, 13, 25, 45, 7]#lista de valores de potencia\n",
        "frequencias = [63798, 49226, 30678, 26740, 9833, 849, 619, 184, 138, 87, 67, 60, 50, 48, 48, 38, 16, 11, 9, 5, 5, 3, 1, 1]#lista do agrupamento da soma de cada uma das potencias\n",
        "plt.hist(valores,bins=range(0, 1050, 50),weights=frequencias,rwidth=0.9)\n",
        "#usaremos o pyplot para fazer graficos\n",
        "plt.xlabel('Potência Nominal')#rotulamdo eixo x\n",
        "plt.ylabel('Frequência')#rotulamdo eixo x\n",
        "plt.title('Histograma da Potência Nominal')#rotulamdo grafico\n",
        "plt.show()"
      ]
    },
    {
      "cell_type": "markdown",
      "metadata": {
        "id": "xQU3KKn-t-TJ"
      },
      "source": [
        "Quantidade de luminarias"
      ]
    },
    {
      "cell_type": "code",
      "execution_count": 47,
      "metadata": {
        "colab": {
          "base_uri": "https://localhost:8080/"
        },
        "id": "3Yfm9QqNtjGk",
        "outputId": "12c99b56-aad3-41f2-d26a-86b0cb730fbe"
      },
      "outputs": [
        {
          "output_type": "execute_result",
          "data": {
            "text/plain": [
              "182514"
            ]
          },
          "metadata": {},
          "execution_count": 47
        }
      ],
      "source": [
        "quantidade_luminarias = len(df['NÚMERO_ORDEM'])#analisando qtd de luminarias\n",
        "quantidade_luminarias#mostrando quantidade"
      ]
    },
    {
      "cell_type": "markdown",
      "metadata": {
        "id": "a4y-H4wPuBoQ"
      },
      "source": [
        "criando logica de horarios"
      ]
    },
    {
      "cell_type": "code",
      "execution_count": 48,
      "metadata": {
        "colab": {
          "base_uri": "https://localhost:8080/"
        },
        "id": "5pxGrYVws3wl",
        "outputId": "f9445348-0401-4c7d-f2ba-2e1b0e798a18"
      },
      "outputs": [
        {
          "output_type": "execute_result",
          "data": {
            "text/plain": [
              "array([18, 19, 20, 21, 22, 23,  0,  1,  2,  3,  4,  5])"
            ]
          },
          "metadata": {},
          "execution_count": 48
        }
      ],
      "source": [
        "#logica de horarios\n",
        "horas = np.arange(18, 30)#gerar sequencia de numeros de 18 ate 29, 24h+5h\n",
        "horas = horas % 24#ajustando as 24hrs\n",
        "horas\n",
        "#no formato de 24+12"
      ]
    },
    {
      "cell_type": "code",
      "execution_count": 49,
      "metadata": {
        "colab": {
          "base_uri": "https://localhost:8080/"
        },
        "id": "LLvE_QPx3cNu",
        "outputId": "d7990414-429d-4623-e542-349d7f355342"
      },
      "outputs": [
        {
          "output_type": "stream",
          "name": "stdout",
          "text": [
            "valor aleatorio gerado:  0\n"
          ]
        }
      ],
      "source": [
        "#funcao que retorna valor aleatorio\n",
        "def movimenta_lampada():\n",
        "  return np.random.poisson(lam=2.0)\n",
        "\n",
        "print(\"valor aleatorio gerado: \",movimenta_lampada())\n"
      ]
    },
    {
      "cell_type": "markdown",
      "metadata": {
        "id": "YJSxfvEX8ph-"
      },
      "source": [
        "IMPLEMENTANDO DF COM LOCALIZAÇÕES PARA DESENVOLVER SISTEMA DE MOVIMENTO ALEATORIO"
      ]
    },
    {
      "cell_type": "code",
      "execution_count": 50,
      "metadata": {
        "colab": {
          "base_uri": "https://localhost:8080/"
        },
        "id": "IMStAfL-_mg7",
        "outputId": "7ea8ac6a-1906-4662-8d75-37ee6f9fa112"
      },
      "outputs": [
        {
          "output_type": "stream",
          "name": "stdout",
          "text": [
            "<class 'pandas.core.frame.DataFrame'>\n",
            "RangeIndex: 182514 entries, 0 to 182513\n",
            "Data columns (total 4 columns):\n",
            " #   Column              Non-Null Count   Dtype \n",
            "---  ------              --------------   ----- \n",
            " 0   PONTO_DE_SERVIÇO_X  182514 non-null  object\n",
            " 1   PONTE_DE_SERVIÇO_Y  182514 non-null  object\n",
            " 2   POTÊNCIA_NOMINAL    182514 non-null  int64 \n",
            " 3   FAMILIA_LÂMPADA     182514 non-null  object\n",
            "dtypes: int64(1), object(3)\n",
            "memory usage: 5.6+ MB\n"
          ]
        }
      ],
      "source": [
        "#dataframe simplificado com dados que iremos utilizar\n",
        "df_movimento = df[['PONTO_DE_SERVIÇO_X','PONTE_DE_SERVIÇO_Y','POTÊNCIA_NOMINAL','FAMILIA_LÂMPADA']]\n",
        "df_movimento.info()\n"
      ]
    },
    {
      "cell_type": "code",
      "execution_count": 51,
      "metadata": {
        "colab": {
          "base_uri": "https://localhost:8080/"
        },
        "id": "wZfVm5ksWExF",
        "outputId": "c45371d8-471e-4a09-eded-b5a341b58a26"
      },
      "outputs": [
        {
          "output_type": "execute_result",
          "data": {
            "text/plain": [
              "182514"
            ]
          },
          "metadata": {},
          "execution_count": 51
        }
      ],
      "source": [
        "#checando numero de luminarias\n",
        "num_luminarias = len(df_movimento)\n",
        "num_luminarias"
      ]
    },
    {
      "cell_type": "code",
      "execution_count": 52,
      "metadata": {
        "colab": {
          "base_uri": "https://localhost:8080/",
          "height": 206
        },
        "id": "KVKGPKMEdDlw",
        "outputId": "09b11f55-dff6-451f-e313-33f9d5682d99"
      },
      "outputs": [
        {
          "output_type": "execute_result",
          "data": {
            "text/plain": [
              "  PONTO_DE_SERVIÇO_X PONTE_DE_SERVIÇO_Y  POTÊNCIA_NOMINAL FAMILIA_LÂMPADA\n",
              "0                                                     400   SÓDIO        \n",
              "1          554469.75            9586805               400   SÓDIO        \n",
              "2          554469.75            9586805               400   SÓDIO        \n",
              "3        553758.0643        9588829.463               150   METÁLICO     \n",
              "4        553742.0426         9588832.29               150   METÁLICO     "
            ],
            "text/html": [
              "\n",
              "  <div id=\"df-bd8a0b16-268f-4cdd-b6e1-857a444daf6c\" class=\"colab-df-container\">\n",
              "    <div>\n",
              "<style scoped>\n",
              "    .dataframe tbody tr th:only-of-type {\n",
              "        vertical-align: middle;\n",
              "    }\n",
              "\n",
              "    .dataframe tbody tr th {\n",
              "        vertical-align: top;\n",
              "    }\n",
              "\n",
              "    .dataframe thead th {\n",
              "        text-align: right;\n",
              "    }\n",
              "</style>\n",
              "<table border=\"1\" class=\"dataframe\">\n",
              "  <thead>\n",
              "    <tr style=\"text-align: right;\">\n",
              "      <th></th>\n",
              "      <th>PONTO_DE_SERVIÇO_X</th>\n",
              "      <th>PONTE_DE_SERVIÇO_Y</th>\n",
              "      <th>POTÊNCIA_NOMINAL</th>\n",
              "      <th>FAMILIA_LÂMPADA</th>\n",
              "    </tr>\n",
              "  </thead>\n",
              "  <tbody>\n",
              "    <tr>\n",
              "      <th>0</th>\n",
              "      <td></td>\n",
              "      <td></td>\n",
              "      <td>400</td>\n",
              "      <td>SÓDIO</td>\n",
              "    </tr>\n",
              "    <tr>\n",
              "      <th>1</th>\n",
              "      <td>554469.75</td>\n",
              "      <td>9586805</td>\n",
              "      <td>400</td>\n",
              "      <td>SÓDIO</td>\n",
              "    </tr>\n",
              "    <tr>\n",
              "      <th>2</th>\n",
              "      <td>554469.75</td>\n",
              "      <td>9586805</td>\n",
              "      <td>400</td>\n",
              "      <td>SÓDIO</td>\n",
              "    </tr>\n",
              "    <tr>\n",
              "      <th>3</th>\n",
              "      <td>553758.0643</td>\n",
              "      <td>9588829.463</td>\n",
              "      <td>150</td>\n",
              "      <td>METÁLICO</td>\n",
              "    </tr>\n",
              "    <tr>\n",
              "      <th>4</th>\n",
              "      <td>553742.0426</td>\n",
              "      <td>9588832.29</td>\n",
              "      <td>150</td>\n",
              "      <td>METÁLICO</td>\n",
              "    </tr>\n",
              "  </tbody>\n",
              "</table>\n",
              "</div>\n",
              "    <div class=\"colab-df-buttons\">\n",
              "\n",
              "  <div class=\"colab-df-container\">\n",
              "    <button class=\"colab-df-convert\" onclick=\"convertToInteractive('df-bd8a0b16-268f-4cdd-b6e1-857a444daf6c')\"\n",
              "            title=\"Convert this dataframe to an interactive table.\"\n",
              "            style=\"display:none;\">\n",
              "\n",
              "  <svg xmlns=\"http://www.w3.org/2000/svg\" height=\"24px\" viewBox=\"0 -960 960 960\">\n",
              "    <path d=\"M120-120v-720h720v720H120Zm60-500h600v-160H180v160Zm220 220h160v-160H400v160Zm0 220h160v-160H400v160ZM180-400h160v-160H180v160Zm440 0h160v-160H620v160ZM180-180h160v-160H180v160Zm440 0h160v-160H620v160Z\"/>\n",
              "  </svg>\n",
              "    </button>\n",
              "\n",
              "  <style>\n",
              "    .colab-df-container {\n",
              "      display:flex;\n",
              "      gap: 12px;\n",
              "    }\n",
              "\n",
              "    .colab-df-convert {\n",
              "      background-color: #E8F0FE;\n",
              "      border: none;\n",
              "      border-radius: 50%;\n",
              "      cursor: pointer;\n",
              "      display: none;\n",
              "      fill: #1967D2;\n",
              "      height: 32px;\n",
              "      padding: 0 0 0 0;\n",
              "      width: 32px;\n",
              "    }\n",
              "\n",
              "    .colab-df-convert:hover {\n",
              "      background-color: #E2EBFA;\n",
              "      box-shadow: 0px 1px 2px rgba(60, 64, 67, 0.3), 0px 1px 3px 1px rgba(60, 64, 67, 0.15);\n",
              "      fill: #174EA6;\n",
              "    }\n",
              "\n",
              "    .colab-df-buttons div {\n",
              "      margin-bottom: 4px;\n",
              "    }\n",
              "\n",
              "    [theme=dark] .colab-df-convert {\n",
              "      background-color: #3B4455;\n",
              "      fill: #D2E3FC;\n",
              "    }\n",
              "\n",
              "    [theme=dark] .colab-df-convert:hover {\n",
              "      background-color: #434B5C;\n",
              "      box-shadow: 0px 1px 3px 1px rgba(0, 0, 0, 0.15);\n",
              "      filter: drop-shadow(0px 1px 2px rgba(0, 0, 0, 0.3));\n",
              "      fill: #FFFFFF;\n",
              "    }\n",
              "  </style>\n",
              "\n",
              "    <script>\n",
              "      const buttonEl =\n",
              "        document.querySelector('#df-bd8a0b16-268f-4cdd-b6e1-857a444daf6c button.colab-df-convert');\n",
              "      buttonEl.style.display =\n",
              "        google.colab.kernel.accessAllowed ? 'block' : 'none';\n",
              "\n",
              "      async function convertToInteractive(key) {\n",
              "        const element = document.querySelector('#df-bd8a0b16-268f-4cdd-b6e1-857a444daf6c');\n",
              "        const dataTable =\n",
              "          await google.colab.kernel.invokeFunction('convertToInteractive',\n",
              "                                                    [key], {});\n",
              "        if (!dataTable) return;\n",
              "\n",
              "        const docLinkHtml = 'Like what you see? Visit the ' +\n",
              "          '<a target=\"_blank\" href=https://colab.research.google.com/notebooks/data_table.ipynb>data table notebook</a>'\n",
              "          + ' to learn more about interactive tables.';\n",
              "        element.innerHTML = '';\n",
              "        dataTable['output_type'] = 'display_data';\n",
              "        await google.colab.output.renderOutput(dataTable, element);\n",
              "        const docLink = document.createElement('div');\n",
              "        docLink.innerHTML = docLinkHtml;\n",
              "        element.appendChild(docLink);\n",
              "      }\n",
              "    </script>\n",
              "  </div>\n",
              "\n",
              "\n",
              "<div id=\"df-0a81e65c-05d7-4109-b658-7e7ef531fa40\">\n",
              "  <button class=\"colab-df-quickchart\" onclick=\"quickchart('df-0a81e65c-05d7-4109-b658-7e7ef531fa40')\"\n",
              "            title=\"Suggest charts\"\n",
              "            style=\"display:none;\">\n",
              "\n",
              "<svg xmlns=\"http://www.w3.org/2000/svg\" height=\"24px\"viewBox=\"0 0 24 24\"\n",
              "     width=\"24px\">\n",
              "    <g>\n",
              "        <path d=\"M19 3H5c-1.1 0-2 .9-2 2v14c0 1.1.9 2 2 2h14c1.1 0 2-.9 2-2V5c0-1.1-.9-2-2-2zM9 17H7v-7h2v7zm4 0h-2V7h2v10zm4 0h-2v-4h2v4z\"/>\n",
              "    </g>\n",
              "</svg>\n",
              "  </button>\n",
              "\n",
              "<style>\n",
              "  .colab-df-quickchart {\n",
              "      --bg-color: #E8F0FE;\n",
              "      --fill-color: #1967D2;\n",
              "      --hover-bg-color: #E2EBFA;\n",
              "      --hover-fill-color: #174EA6;\n",
              "      --disabled-fill-color: #AAA;\n",
              "      --disabled-bg-color: #DDD;\n",
              "  }\n",
              "\n",
              "  [theme=dark] .colab-df-quickchart {\n",
              "      --bg-color: #3B4455;\n",
              "      --fill-color: #D2E3FC;\n",
              "      --hover-bg-color: #434B5C;\n",
              "      --hover-fill-color: #FFFFFF;\n",
              "      --disabled-bg-color: #3B4455;\n",
              "      --disabled-fill-color: #666;\n",
              "  }\n",
              "\n",
              "  .colab-df-quickchart {\n",
              "    background-color: var(--bg-color);\n",
              "    border: none;\n",
              "    border-radius: 50%;\n",
              "    cursor: pointer;\n",
              "    display: none;\n",
              "    fill: var(--fill-color);\n",
              "    height: 32px;\n",
              "    padding: 0;\n",
              "    width: 32px;\n",
              "  }\n",
              "\n",
              "  .colab-df-quickchart:hover {\n",
              "    background-color: var(--hover-bg-color);\n",
              "    box-shadow: 0 1px 2px rgba(60, 64, 67, 0.3), 0 1px 3px 1px rgba(60, 64, 67, 0.15);\n",
              "    fill: var(--button-hover-fill-color);\n",
              "  }\n",
              "\n",
              "  .colab-df-quickchart-complete:disabled,\n",
              "  .colab-df-quickchart-complete:disabled:hover {\n",
              "    background-color: var(--disabled-bg-color);\n",
              "    fill: var(--disabled-fill-color);\n",
              "    box-shadow: none;\n",
              "  }\n",
              "\n",
              "  .colab-df-spinner {\n",
              "    border: 2px solid var(--fill-color);\n",
              "    border-color: transparent;\n",
              "    border-bottom-color: var(--fill-color);\n",
              "    animation:\n",
              "      spin 1s steps(1) infinite;\n",
              "  }\n",
              "\n",
              "  @keyframes spin {\n",
              "    0% {\n",
              "      border-color: transparent;\n",
              "      border-bottom-color: var(--fill-color);\n",
              "      border-left-color: var(--fill-color);\n",
              "    }\n",
              "    20% {\n",
              "      border-color: transparent;\n",
              "      border-left-color: var(--fill-color);\n",
              "      border-top-color: var(--fill-color);\n",
              "    }\n",
              "    30% {\n",
              "      border-color: transparent;\n",
              "      border-left-color: var(--fill-color);\n",
              "      border-top-color: var(--fill-color);\n",
              "      border-right-color: var(--fill-color);\n",
              "    }\n",
              "    40% {\n",
              "      border-color: transparent;\n",
              "      border-right-color: var(--fill-color);\n",
              "      border-top-color: var(--fill-color);\n",
              "    }\n",
              "    60% {\n",
              "      border-color: transparent;\n",
              "      border-right-color: var(--fill-color);\n",
              "    }\n",
              "    80% {\n",
              "      border-color: transparent;\n",
              "      border-right-color: var(--fill-color);\n",
              "      border-bottom-color: var(--fill-color);\n",
              "    }\n",
              "    90% {\n",
              "      border-color: transparent;\n",
              "      border-bottom-color: var(--fill-color);\n",
              "    }\n",
              "  }\n",
              "</style>\n",
              "\n",
              "  <script>\n",
              "    async function quickchart(key) {\n",
              "      const quickchartButtonEl =\n",
              "        document.querySelector('#' + key + ' button');\n",
              "      quickchartButtonEl.disabled = true;  // To prevent multiple clicks.\n",
              "      quickchartButtonEl.classList.add('colab-df-spinner');\n",
              "      try {\n",
              "        const charts = await google.colab.kernel.invokeFunction(\n",
              "            'suggestCharts', [key], {});\n",
              "      } catch (error) {\n",
              "        console.error('Error during call to suggestCharts:', error);\n",
              "      }\n",
              "      quickchartButtonEl.classList.remove('colab-df-spinner');\n",
              "      quickchartButtonEl.classList.add('colab-df-quickchart-complete');\n",
              "    }\n",
              "    (() => {\n",
              "      let quickchartButtonEl =\n",
              "        document.querySelector('#df-0a81e65c-05d7-4109-b658-7e7ef531fa40 button');\n",
              "      quickchartButtonEl.style.display =\n",
              "        google.colab.kernel.accessAllowed ? 'block' : 'none';\n",
              "    })();\n",
              "  </script>\n",
              "</div>\n",
              "\n",
              "    </div>\n",
              "  </div>\n"
            ],
            "application/vnd.google.colaboratory.intrinsic+json": {
              "type": "dataframe",
              "variable_name": "df_movimento"
            }
          },
          "metadata": {},
          "execution_count": 52
        }
      ],
      "source": [
        "df_movimento.head()"
      ]
    },
    {
      "cell_type": "code",
      "execution_count": 53,
      "metadata": {
        "id": "ifS8EQWTC4Ay"
      },
      "outputs": [],
      "source": [
        "movimentacao_luminaria = []\n",
        "for indice, valores_luminarias in df_movimento.iterrows():\n",
        "  for hora in horas:\n",
        "    move = movimenta_lampada()\n",
        "    #iremos gerar um numeros entre os reais aleatorio onde 0 é desligado e 1 potencia maxima!simulando intensidade e multiplicar pela quantidade de movimento detectada\n",
        "    intensidade = np.clip(np.random.uniform(0,1)*move,0,1)\n",
        "    movimentacao_luminaria.append([valores_luminarias['PONTO_DE_SERVIÇO_X'],\n",
        "                                   valores_luminarias['PONTE_DE_SERVIÇO_Y'],\n",
        "                                   valores_luminarias['POTÊNCIA_NOMINAL'],\n",
        "                                   valores_luminarias['FAMILIA_LÂMPADA'],\n",
        "                                   hora, move, intensidade\n",
        "                                   ])\n"
      ]
    },
    {
      "cell_type": "code",
      "execution_count": 54,
      "metadata": {
        "colab": {
          "base_uri": "https://localhost:8080/"
        },
        "id": "FHmb_4mDLFcg",
        "outputId": "ad1988e9-5533-41cd-deb4-07cb130b426a"
      },
      "outputs": [
        {
          "output_type": "stream",
          "name": "stdout",
          "text": [
            "['         ', '         ', 400, 'SÓDIO        ', 18, 3, 0.7536058857263552]\n",
            "['         ', '         ', 400, 'SÓDIO        ', 19, 1, 0.901650129111812]\n",
            "['         ', '         ', 400, 'SÓDIO        ', 20, 1, 0.3727806175184658]\n",
            "['         ', '         ', 400, 'SÓDIO        ', 21, 0, 0.0]\n",
            "['         ', '         ', 400, 'SÓDIO        ', 22, 0, 0.0]\n"
          ]
        }
      ],
      "source": [
        "for i in range(5):\n",
        "  print(movimentacao_luminaria[i])"
      ]
    },
    {
      "cell_type": "code",
      "execution_count": 55,
      "metadata": {
        "colab": {
          "base_uri": "https://localhost:8080/"
        },
        "id": "IIEm_6p7dZ0O",
        "outputId": "00ef6024-72fa-4594-9da0-e3b9ab268e57"
      },
      "outputs": [
        {
          "output_type": "execute_result",
          "data": {
            "text/plain": [
              "['         ', '         ', 400, 'SÓDIO        ', 18, 3, 0.7536058857263552]"
            ]
          },
          "metadata": {},
          "execution_count": 55
        }
      ],
      "source": [
        "movimentacao_luminaria[0]"
      ]
    },
    {
      "cell_type": "code",
      "execution_count": 56,
      "metadata": {
        "colab": {
          "base_uri": "https://localhost:8080/",
          "height": 802
        },
        "id": "VnVUhjtxRNNx",
        "outputId": "f8e313a1-f0d6-49e9-fcc2-e7558c4096e5"
      },
      "outputs": [
        {
          "output_type": "execute_result",
          "data": {
            "text/plain": [
              "   PONTO_DE_SERVIÇO_X PONTE_DE_SERVIÇO_Y  POTÊNCIA_NOMINAL FAMILIA_LÂMPADA  \\\n",
              "0                                                      400   SÓDIO           \n",
              "1                                                      400   SÓDIO           \n",
              "2                                                      400   SÓDIO           \n",
              "3                                                      400   SÓDIO           \n",
              "4                                                      400   SÓDIO           \n",
              "5                                                      400   SÓDIO           \n",
              "6                                                      400   SÓDIO           \n",
              "7                                                      400   SÓDIO           \n",
              "8                                                      400   SÓDIO           \n",
              "9                                                      400   SÓDIO           \n",
              "10                                                     400   SÓDIO           \n",
              "11                                                     400   SÓDIO           \n",
              "12          554469.75            9586805               400   SÓDIO           \n",
              "13          554469.75            9586805               400   SÓDIO           \n",
              "14          554469.75            9586805               400   SÓDIO           \n",
              "15          554469.75            9586805               400   SÓDIO           \n",
              "16          554469.75            9586805               400   SÓDIO           \n",
              "17          554469.75            9586805               400   SÓDIO           \n",
              "18          554469.75            9586805               400   SÓDIO           \n",
              "19          554469.75            9586805               400   SÓDIO           \n",
              "20          554469.75            9586805               400   SÓDIO           \n",
              "21          554469.75            9586805               400   SÓDIO           \n",
              "22          554469.75            9586805               400   SÓDIO           \n",
              "23          554469.75            9586805               400   SÓDIO           \n",
              "\n",
              "    HORA  MOVIMENTAÇÃO  INTENSIDADE  \n",
              "0     18             3     0.753606  \n",
              "1     19             1     0.901650  \n",
              "2     20             1     0.372781  \n",
              "3     21             0     0.000000  \n",
              "4     22             0     0.000000  \n",
              "5     23             2     1.000000  \n",
              "6      0             2     1.000000  \n",
              "7      1             1     0.041023  \n",
              "8      2             0     0.000000  \n",
              "9      3             1     0.784164  \n",
              "10     4             3     1.000000  \n",
              "11     5             1     0.729011  \n",
              "12    18             3     0.407117  \n",
              "13    19             0     0.000000  \n",
              "14    20             1     0.128797  \n",
              "15    21             1     0.654484  \n",
              "16    22             2     1.000000  \n",
              "17    23             2     1.000000  \n",
              "18     0             1     0.983809  \n",
              "19     1             3     1.000000  \n",
              "20     2             1     0.171793  \n",
              "21     3             2     1.000000  \n",
              "22     4             4     1.000000  \n",
              "23     5             0     0.000000  "
            ],
            "text/html": [
              "\n",
              "  <div id=\"df-47de736d-372b-4ff3-9da5-83c2899ec08f\" class=\"colab-df-container\">\n",
              "    <div>\n",
              "<style scoped>\n",
              "    .dataframe tbody tr th:only-of-type {\n",
              "        vertical-align: middle;\n",
              "    }\n",
              "\n",
              "    .dataframe tbody tr th {\n",
              "        vertical-align: top;\n",
              "    }\n",
              "\n",
              "    .dataframe thead th {\n",
              "        text-align: right;\n",
              "    }\n",
              "</style>\n",
              "<table border=\"1\" class=\"dataframe\">\n",
              "  <thead>\n",
              "    <tr style=\"text-align: right;\">\n",
              "      <th></th>\n",
              "      <th>PONTO_DE_SERVIÇO_X</th>\n",
              "      <th>PONTE_DE_SERVIÇO_Y</th>\n",
              "      <th>POTÊNCIA_NOMINAL</th>\n",
              "      <th>FAMILIA_LÂMPADA</th>\n",
              "      <th>HORA</th>\n",
              "      <th>MOVIMENTAÇÃO</th>\n",
              "      <th>INTENSIDADE</th>\n",
              "    </tr>\n",
              "  </thead>\n",
              "  <tbody>\n",
              "    <tr>\n",
              "      <th>0</th>\n",
              "      <td></td>\n",
              "      <td></td>\n",
              "      <td>400</td>\n",
              "      <td>SÓDIO</td>\n",
              "      <td>18</td>\n",
              "      <td>3</td>\n",
              "      <td>0.753606</td>\n",
              "    </tr>\n",
              "    <tr>\n",
              "      <th>1</th>\n",
              "      <td></td>\n",
              "      <td></td>\n",
              "      <td>400</td>\n",
              "      <td>SÓDIO</td>\n",
              "      <td>19</td>\n",
              "      <td>1</td>\n",
              "      <td>0.901650</td>\n",
              "    </tr>\n",
              "    <tr>\n",
              "      <th>2</th>\n",
              "      <td></td>\n",
              "      <td></td>\n",
              "      <td>400</td>\n",
              "      <td>SÓDIO</td>\n",
              "      <td>20</td>\n",
              "      <td>1</td>\n",
              "      <td>0.372781</td>\n",
              "    </tr>\n",
              "    <tr>\n",
              "      <th>3</th>\n",
              "      <td></td>\n",
              "      <td></td>\n",
              "      <td>400</td>\n",
              "      <td>SÓDIO</td>\n",
              "      <td>21</td>\n",
              "      <td>0</td>\n",
              "      <td>0.000000</td>\n",
              "    </tr>\n",
              "    <tr>\n",
              "      <th>4</th>\n",
              "      <td></td>\n",
              "      <td></td>\n",
              "      <td>400</td>\n",
              "      <td>SÓDIO</td>\n",
              "      <td>22</td>\n",
              "      <td>0</td>\n",
              "      <td>0.000000</td>\n",
              "    </tr>\n",
              "    <tr>\n",
              "      <th>5</th>\n",
              "      <td></td>\n",
              "      <td></td>\n",
              "      <td>400</td>\n",
              "      <td>SÓDIO</td>\n",
              "      <td>23</td>\n",
              "      <td>2</td>\n",
              "      <td>1.000000</td>\n",
              "    </tr>\n",
              "    <tr>\n",
              "      <th>6</th>\n",
              "      <td></td>\n",
              "      <td></td>\n",
              "      <td>400</td>\n",
              "      <td>SÓDIO</td>\n",
              "      <td>0</td>\n",
              "      <td>2</td>\n",
              "      <td>1.000000</td>\n",
              "    </tr>\n",
              "    <tr>\n",
              "      <th>7</th>\n",
              "      <td></td>\n",
              "      <td></td>\n",
              "      <td>400</td>\n",
              "      <td>SÓDIO</td>\n",
              "      <td>1</td>\n",
              "      <td>1</td>\n",
              "      <td>0.041023</td>\n",
              "    </tr>\n",
              "    <tr>\n",
              "      <th>8</th>\n",
              "      <td></td>\n",
              "      <td></td>\n",
              "      <td>400</td>\n",
              "      <td>SÓDIO</td>\n",
              "      <td>2</td>\n",
              "      <td>0</td>\n",
              "      <td>0.000000</td>\n",
              "    </tr>\n",
              "    <tr>\n",
              "      <th>9</th>\n",
              "      <td></td>\n",
              "      <td></td>\n",
              "      <td>400</td>\n",
              "      <td>SÓDIO</td>\n",
              "      <td>3</td>\n",
              "      <td>1</td>\n",
              "      <td>0.784164</td>\n",
              "    </tr>\n",
              "    <tr>\n",
              "      <th>10</th>\n",
              "      <td></td>\n",
              "      <td></td>\n",
              "      <td>400</td>\n",
              "      <td>SÓDIO</td>\n",
              "      <td>4</td>\n",
              "      <td>3</td>\n",
              "      <td>1.000000</td>\n",
              "    </tr>\n",
              "    <tr>\n",
              "      <th>11</th>\n",
              "      <td></td>\n",
              "      <td></td>\n",
              "      <td>400</td>\n",
              "      <td>SÓDIO</td>\n",
              "      <td>5</td>\n",
              "      <td>1</td>\n",
              "      <td>0.729011</td>\n",
              "    </tr>\n",
              "    <tr>\n",
              "      <th>12</th>\n",
              "      <td>554469.75</td>\n",
              "      <td>9586805</td>\n",
              "      <td>400</td>\n",
              "      <td>SÓDIO</td>\n",
              "      <td>18</td>\n",
              "      <td>3</td>\n",
              "      <td>0.407117</td>\n",
              "    </tr>\n",
              "    <tr>\n",
              "      <th>13</th>\n",
              "      <td>554469.75</td>\n",
              "      <td>9586805</td>\n",
              "      <td>400</td>\n",
              "      <td>SÓDIO</td>\n",
              "      <td>19</td>\n",
              "      <td>0</td>\n",
              "      <td>0.000000</td>\n",
              "    </tr>\n",
              "    <tr>\n",
              "      <th>14</th>\n",
              "      <td>554469.75</td>\n",
              "      <td>9586805</td>\n",
              "      <td>400</td>\n",
              "      <td>SÓDIO</td>\n",
              "      <td>20</td>\n",
              "      <td>1</td>\n",
              "      <td>0.128797</td>\n",
              "    </tr>\n",
              "    <tr>\n",
              "      <th>15</th>\n",
              "      <td>554469.75</td>\n",
              "      <td>9586805</td>\n",
              "      <td>400</td>\n",
              "      <td>SÓDIO</td>\n",
              "      <td>21</td>\n",
              "      <td>1</td>\n",
              "      <td>0.654484</td>\n",
              "    </tr>\n",
              "    <tr>\n",
              "      <th>16</th>\n",
              "      <td>554469.75</td>\n",
              "      <td>9586805</td>\n",
              "      <td>400</td>\n",
              "      <td>SÓDIO</td>\n",
              "      <td>22</td>\n",
              "      <td>2</td>\n",
              "      <td>1.000000</td>\n",
              "    </tr>\n",
              "    <tr>\n",
              "      <th>17</th>\n",
              "      <td>554469.75</td>\n",
              "      <td>9586805</td>\n",
              "      <td>400</td>\n",
              "      <td>SÓDIO</td>\n",
              "      <td>23</td>\n",
              "      <td>2</td>\n",
              "      <td>1.000000</td>\n",
              "    </tr>\n",
              "    <tr>\n",
              "      <th>18</th>\n",
              "      <td>554469.75</td>\n",
              "      <td>9586805</td>\n",
              "      <td>400</td>\n",
              "      <td>SÓDIO</td>\n",
              "      <td>0</td>\n",
              "      <td>1</td>\n",
              "      <td>0.983809</td>\n",
              "    </tr>\n",
              "    <tr>\n",
              "      <th>19</th>\n",
              "      <td>554469.75</td>\n",
              "      <td>9586805</td>\n",
              "      <td>400</td>\n",
              "      <td>SÓDIO</td>\n",
              "      <td>1</td>\n",
              "      <td>3</td>\n",
              "      <td>1.000000</td>\n",
              "    </tr>\n",
              "    <tr>\n",
              "      <th>20</th>\n",
              "      <td>554469.75</td>\n",
              "      <td>9586805</td>\n",
              "      <td>400</td>\n",
              "      <td>SÓDIO</td>\n",
              "      <td>2</td>\n",
              "      <td>1</td>\n",
              "      <td>0.171793</td>\n",
              "    </tr>\n",
              "    <tr>\n",
              "      <th>21</th>\n",
              "      <td>554469.75</td>\n",
              "      <td>9586805</td>\n",
              "      <td>400</td>\n",
              "      <td>SÓDIO</td>\n",
              "      <td>3</td>\n",
              "      <td>2</td>\n",
              "      <td>1.000000</td>\n",
              "    </tr>\n",
              "    <tr>\n",
              "      <th>22</th>\n",
              "      <td>554469.75</td>\n",
              "      <td>9586805</td>\n",
              "      <td>400</td>\n",
              "      <td>SÓDIO</td>\n",
              "      <td>4</td>\n",
              "      <td>4</td>\n",
              "      <td>1.000000</td>\n",
              "    </tr>\n",
              "    <tr>\n",
              "      <th>23</th>\n",
              "      <td>554469.75</td>\n",
              "      <td>9586805</td>\n",
              "      <td>400</td>\n",
              "      <td>SÓDIO</td>\n",
              "      <td>5</td>\n",
              "      <td>0</td>\n",
              "      <td>0.000000</td>\n",
              "    </tr>\n",
              "  </tbody>\n",
              "</table>\n",
              "</div>\n",
              "    <div class=\"colab-df-buttons\">\n",
              "\n",
              "  <div class=\"colab-df-container\">\n",
              "    <button class=\"colab-df-convert\" onclick=\"convertToInteractive('df-47de736d-372b-4ff3-9da5-83c2899ec08f')\"\n",
              "            title=\"Convert this dataframe to an interactive table.\"\n",
              "            style=\"display:none;\">\n",
              "\n",
              "  <svg xmlns=\"http://www.w3.org/2000/svg\" height=\"24px\" viewBox=\"0 -960 960 960\">\n",
              "    <path d=\"M120-120v-720h720v720H120Zm60-500h600v-160H180v160Zm220 220h160v-160H400v160Zm0 220h160v-160H400v160ZM180-400h160v-160H180v160Zm440 0h160v-160H620v160ZM180-180h160v-160H180v160Zm440 0h160v-160H620v160Z\"/>\n",
              "  </svg>\n",
              "    </button>\n",
              "\n",
              "  <style>\n",
              "    .colab-df-container {\n",
              "      display:flex;\n",
              "      gap: 12px;\n",
              "    }\n",
              "\n",
              "    .colab-df-convert {\n",
              "      background-color: #E8F0FE;\n",
              "      border: none;\n",
              "      border-radius: 50%;\n",
              "      cursor: pointer;\n",
              "      display: none;\n",
              "      fill: #1967D2;\n",
              "      height: 32px;\n",
              "      padding: 0 0 0 0;\n",
              "      width: 32px;\n",
              "    }\n",
              "\n",
              "    .colab-df-convert:hover {\n",
              "      background-color: #E2EBFA;\n",
              "      box-shadow: 0px 1px 2px rgba(60, 64, 67, 0.3), 0px 1px 3px 1px rgba(60, 64, 67, 0.15);\n",
              "      fill: #174EA6;\n",
              "    }\n",
              "\n",
              "    .colab-df-buttons div {\n",
              "      margin-bottom: 4px;\n",
              "    }\n",
              "\n",
              "    [theme=dark] .colab-df-convert {\n",
              "      background-color: #3B4455;\n",
              "      fill: #D2E3FC;\n",
              "    }\n",
              "\n",
              "    [theme=dark] .colab-df-convert:hover {\n",
              "      background-color: #434B5C;\n",
              "      box-shadow: 0px 1px 3px 1px rgba(0, 0, 0, 0.15);\n",
              "      filter: drop-shadow(0px 1px 2px rgba(0, 0, 0, 0.3));\n",
              "      fill: #FFFFFF;\n",
              "    }\n",
              "  </style>\n",
              "\n",
              "    <script>\n",
              "      const buttonEl =\n",
              "        document.querySelector('#df-47de736d-372b-4ff3-9da5-83c2899ec08f button.colab-df-convert');\n",
              "      buttonEl.style.display =\n",
              "        google.colab.kernel.accessAllowed ? 'block' : 'none';\n",
              "\n",
              "      async function convertToInteractive(key) {\n",
              "        const element = document.querySelector('#df-47de736d-372b-4ff3-9da5-83c2899ec08f');\n",
              "        const dataTable =\n",
              "          await google.colab.kernel.invokeFunction('convertToInteractive',\n",
              "                                                    [key], {});\n",
              "        if (!dataTable) return;\n",
              "\n",
              "        const docLinkHtml = 'Like what you see? Visit the ' +\n",
              "          '<a target=\"_blank\" href=https://colab.research.google.com/notebooks/data_table.ipynb>data table notebook</a>'\n",
              "          + ' to learn more about interactive tables.';\n",
              "        element.innerHTML = '';\n",
              "        dataTable['output_type'] = 'display_data';\n",
              "        await google.colab.output.renderOutput(dataTable, element);\n",
              "        const docLink = document.createElement('div');\n",
              "        docLink.innerHTML = docLinkHtml;\n",
              "        element.appendChild(docLink);\n",
              "      }\n",
              "    </script>\n",
              "  </div>\n",
              "\n",
              "\n",
              "<div id=\"df-71537649-f3e3-4b99-92ed-e7d4e9967122\">\n",
              "  <button class=\"colab-df-quickchart\" onclick=\"quickchart('df-71537649-f3e3-4b99-92ed-e7d4e9967122')\"\n",
              "            title=\"Suggest charts\"\n",
              "            style=\"display:none;\">\n",
              "\n",
              "<svg xmlns=\"http://www.w3.org/2000/svg\" height=\"24px\"viewBox=\"0 0 24 24\"\n",
              "     width=\"24px\">\n",
              "    <g>\n",
              "        <path d=\"M19 3H5c-1.1 0-2 .9-2 2v14c0 1.1.9 2 2 2h14c1.1 0 2-.9 2-2V5c0-1.1-.9-2-2-2zM9 17H7v-7h2v7zm4 0h-2V7h2v10zm4 0h-2v-4h2v4z\"/>\n",
              "    </g>\n",
              "</svg>\n",
              "  </button>\n",
              "\n",
              "<style>\n",
              "  .colab-df-quickchart {\n",
              "      --bg-color: #E8F0FE;\n",
              "      --fill-color: #1967D2;\n",
              "      --hover-bg-color: #E2EBFA;\n",
              "      --hover-fill-color: #174EA6;\n",
              "      --disabled-fill-color: #AAA;\n",
              "      --disabled-bg-color: #DDD;\n",
              "  }\n",
              "\n",
              "  [theme=dark] .colab-df-quickchart {\n",
              "      --bg-color: #3B4455;\n",
              "      --fill-color: #D2E3FC;\n",
              "      --hover-bg-color: #434B5C;\n",
              "      --hover-fill-color: #FFFFFF;\n",
              "      --disabled-bg-color: #3B4455;\n",
              "      --disabled-fill-color: #666;\n",
              "  }\n",
              "\n",
              "  .colab-df-quickchart {\n",
              "    background-color: var(--bg-color);\n",
              "    border: none;\n",
              "    border-radius: 50%;\n",
              "    cursor: pointer;\n",
              "    display: none;\n",
              "    fill: var(--fill-color);\n",
              "    height: 32px;\n",
              "    padding: 0;\n",
              "    width: 32px;\n",
              "  }\n",
              "\n",
              "  .colab-df-quickchart:hover {\n",
              "    background-color: var(--hover-bg-color);\n",
              "    box-shadow: 0 1px 2px rgba(60, 64, 67, 0.3), 0 1px 3px 1px rgba(60, 64, 67, 0.15);\n",
              "    fill: var(--button-hover-fill-color);\n",
              "  }\n",
              "\n",
              "  .colab-df-quickchart-complete:disabled,\n",
              "  .colab-df-quickchart-complete:disabled:hover {\n",
              "    background-color: var(--disabled-bg-color);\n",
              "    fill: var(--disabled-fill-color);\n",
              "    box-shadow: none;\n",
              "  }\n",
              "\n",
              "  .colab-df-spinner {\n",
              "    border: 2px solid var(--fill-color);\n",
              "    border-color: transparent;\n",
              "    border-bottom-color: var(--fill-color);\n",
              "    animation:\n",
              "      spin 1s steps(1) infinite;\n",
              "  }\n",
              "\n",
              "  @keyframes spin {\n",
              "    0% {\n",
              "      border-color: transparent;\n",
              "      border-bottom-color: var(--fill-color);\n",
              "      border-left-color: var(--fill-color);\n",
              "    }\n",
              "    20% {\n",
              "      border-color: transparent;\n",
              "      border-left-color: var(--fill-color);\n",
              "      border-top-color: var(--fill-color);\n",
              "    }\n",
              "    30% {\n",
              "      border-color: transparent;\n",
              "      border-left-color: var(--fill-color);\n",
              "      border-top-color: var(--fill-color);\n",
              "      border-right-color: var(--fill-color);\n",
              "    }\n",
              "    40% {\n",
              "      border-color: transparent;\n",
              "      border-right-color: var(--fill-color);\n",
              "      border-top-color: var(--fill-color);\n",
              "    }\n",
              "    60% {\n",
              "      border-color: transparent;\n",
              "      border-right-color: var(--fill-color);\n",
              "    }\n",
              "    80% {\n",
              "      border-color: transparent;\n",
              "      border-right-color: var(--fill-color);\n",
              "      border-bottom-color: var(--fill-color);\n",
              "    }\n",
              "    90% {\n",
              "      border-color: transparent;\n",
              "      border-bottom-color: var(--fill-color);\n",
              "    }\n",
              "  }\n",
              "</style>\n",
              "\n",
              "  <script>\n",
              "    async function quickchart(key) {\n",
              "      const quickchartButtonEl =\n",
              "        document.querySelector('#' + key + ' button');\n",
              "      quickchartButtonEl.disabled = true;  // To prevent multiple clicks.\n",
              "      quickchartButtonEl.classList.add('colab-df-spinner');\n",
              "      try {\n",
              "        const charts = await google.colab.kernel.invokeFunction(\n",
              "            'suggestCharts', [key], {});\n",
              "      } catch (error) {\n",
              "        console.error('Error during call to suggestCharts:', error);\n",
              "      }\n",
              "      quickchartButtonEl.classList.remove('colab-df-spinner');\n",
              "      quickchartButtonEl.classList.add('colab-df-quickchart-complete');\n",
              "    }\n",
              "    (() => {\n",
              "      let quickchartButtonEl =\n",
              "        document.querySelector('#df-71537649-f3e3-4b99-92ed-e7d4e9967122 button');\n",
              "      quickchartButtonEl.style.display =\n",
              "        google.colab.kernel.accessAllowed ? 'block' : 'none';\n",
              "    })();\n",
              "  </script>\n",
              "</div>\n",
              "\n",
              "    </div>\n",
              "  </div>\n"
            ],
            "application/vnd.google.colaboratory.intrinsic+json": {
              "type": "dataframe",
              "variable_name": "df_movimento_intensidade"
            }
          },
          "metadata": {},
          "execution_count": 56
        }
      ],
      "source": [
        "#criando dataframe de movimentos e intensidades\n",
        "df_movimento_intensidade = pd.DataFrame(movimentacao_luminaria, columns=['PONTO_DE_SERVIÇO_X','PONTE_DE_SERVIÇO_Y','POTÊNCIA_NOMINAL','FAMILIA_LÂMPADA','HORA','MOVIMENTAÇÃO','INTENSIDADE'])\n",
        "df_movimento_intensidade.head(24)"
      ]
    },
    {
      "cell_type": "code",
      "execution_count": 57,
      "metadata": {
        "id": "0ZMGlmIruUtB"
      },
      "outputs": [],
      "source": [
        "# Agregando dados por hora para calcular a média de intensidade luminosa e movimentação\n",
        "df_aggregated = df_movimento_intensidade.groupby('HORA').agg({\n",
        "    'MOVIMENTAÇÃO': 'mean',\n",
        "    'INTENSIDADE': 'mean'\n",
        "}).reset_index()"
      ]
    },
    {
      "cell_type": "code",
      "source": [
        "# Filtrando apenas as horas entre 18h e 5h\n",
        "df_aggregated_filtered = df_aggregated[(df_aggregated['HORA'] >= 18) | (df_aggregated['HORA'] <= 5)]"
      ],
      "metadata": {
        "id": "KEGvGRmYP1yR"
      },
      "execution_count": 58,
      "outputs": []
    },
    {
      "cell_type": "markdown",
      "metadata": {
        "id": "nC3o9evQrmnL"
      },
      "source": [
        "Treinando modelo\n"
      ]
    },
    {
      "cell_type": "code",
      "execution_count": 59,
      "metadata": {
        "id": "KuCu6M9Wrd_S"
      },
      "outputs": [],
      "source": [
        "x = df_movimento_intensidade[['MOVIMENTAÇÃO','HORA']]\n",
        "y = df_movimento_intensidade['INTENSIDADE']\n",
        "X_treino, X_teste, y_treino, y_teste = train_test_split(x, y, test_size=0.3, random_state=42)#90% para treino e 10% para teste"
      ]
    },
    {
      "cell_type": "code",
      "source": [
        "# Normalizando os dados\n",
        "scala = StandardScaler()\n",
        "X_treino_scaled = scala.fit_transform(X_treino)\n",
        "X_teste_scaled = scala.transform(X_teste)"
      ],
      "metadata": {
        "id": "XAz2OfN1MDUK"
      },
      "execution_count": 60,
      "outputs": []
    },
    {
      "cell_type": "code",
      "execution_count": 61,
      "metadata": {
        "colab": {
          "base_uri": "https://localhost:8080/",
          "height": 458
        },
        "id": "Pn-YaQsJlHKE",
        "outputId": "29aa624b-0859-45a4-9db3-33d54be24049"
      },
      "outputs": [
        {
          "output_type": "execute_result",
          "data": {
            "text/plain": [
              "1308746    0.039853\n",
              "932613     0.794626\n",
              "128296     0.881154\n",
              "1789065    1.000000\n",
              "316370     0.000000\n",
              "             ...   \n",
              "232166     0.152193\n",
              "82283      0.606466\n",
              "773827     1.000000\n",
              "362581     0.360807\n",
              "1454362    0.000000\n",
              "Name: INTENSIDADE, Length: 657051, dtype: float64"
            ],
            "text/html": [
              "<div>\n",
              "<style scoped>\n",
              "    .dataframe tbody tr th:only-of-type {\n",
              "        vertical-align: middle;\n",
              "    }\n",
              "\n",
              "    .dataframe tbody tr th {\n",
              "        vertical-align: top;\n",
              "    }\n",
              "\n",
              "    .dataframe thead th {\n",
              "        text-align: right;\n",
              "    }\n",
              "</style>\n",
              "<table border=\"1\" class=\"dataframe\">\n",
              "  <thead>\n",
              "    <tr style=\"text-align: right;\">\n",
              "      <th></th>\n",
              "      <th>INTENSIDADE</th>\n",
              "    </tr>\n",
              "  </thead>\n",
              "  <tbody>\n",
              "    <tr>\n",
              "      <th>1308746</th>\n",
              "      <td>0.039853</td>\n",
              "    </tr>\n",
              "    <tr>\n",
              "      <th>932613</th>\n",
              "      <td>0.794626</td>\n",
              "    </tr>\n",
              "    <tr>\n",
              "      <th>128296</th>\n",
              "      <td>0.881154</td>\n",
              "    </tr>\n",
              "    <tr>\n",
              "      <th>1789065</th>\n",
              "      <td>1.000000</td>\n",
              "    </tr>\n",
              "    <tr>\n",
              "      <th>316370</th>\n",
              "      <td>0.000000</td>\n",
              "    </tr>\n",
              "    <tr>\n",
              "      <th>...</th>\n",
              "      <td>...</td>\n",
              "    </tr>\n",
              "    <tr>\n",
              "      <th>232166</th>\n",
              "      <td>0.152193</td>\n",
              "    </tr>\n",
              "    <tr>\n",
              "      <th>82283</th>\n",
              "      <td>0.606466</td>\n",
              "    </tr>\n",
              "    <tr>\n",
              "      <th>773827</th>\n",
              "      <td>1.000000</td>\n",
              "    </tr>\n",
              "    <tr>\n",
              "      <th>362581</th>\n",
              "      <td>0.360807</td>\n",
              "    </tr>\n",
              "    <tr>\n",
              "      <th>1454362</th>\n",
              "      <td>0.000000</td>\n",
              "    </tr>\n",
              "  </tbody>\n",
              "</table>\n",
              "<p>657051 rows × 1 columns</p>\n",
              "</div><br><label><b>dtype:</b> float64</label>"
            ]
          },
          "metadata": {},
          "execution_count": 61
        }
      ],
      "source": [
        "y_teste"
      ]
    },
    {
      "cell_type": "code",
      "execution_count": 62,
      "metadata": {
        "colab": {
          "base_uri": "https://localhost:8080/"
        },
        "id": "DCIxTXZ1vJzJ",
        "outputId": "22083b00-9441-4de7-e8e3-0184cfff6ac7"
      },
      "outputs": [
        {
          "output_type": "stream",
          "name": "stdout",
          "text": [
            "tamanho das divisoes de dados\n",
            "(1533117, 2)\n",
            "(657051, 2)\n",
            "(1533117,)\n",
            "(657051,)\n"
          ]
        }
      ],
      "source": [
        "print('tamanho das divisoes de dados')\n",
        "print(X_treino.shape)\n",
        "print(X_teste.shape)\n",
        "print(y_treino.shape)\n",
        "print(y_teste.shape)"
      ]
    },
    {
      "cell_type": "code",
      "execution_count": 63,
      "metadata": {
        "colab": {
          "base_uri": "https://localhost:8080/",
          "height": 75
        },
        "id": "9nQNKFSlvVCu",
        "outputId": "dd1d8735-4ac7-4013-f21b-d13d9e9e0166"
      },
      "outputs": [
        {
          "output_type": "execute_result",
          "data": {
            "text/plain": [
              "LinearRegression()"
            ],
            "text/html": [
              "<style>#sk-container-id-2 {color: black;}#sk-container-id-2 pre{padding: 0;}#sk-container-id-2 div.sk-toggleable {background-color: white;}#sk-container-id-2 label.sk-toggleable__label {cursor: pointer;display: block;width: 100%;margin-bottom: 0;padding: 0.3em;box-sizing: border-box;text-align: center;}#sk-container-id-2 label.sk-toggleable__label-arrow:before {content: \"▸\";float: left;margin-right: 0.25em;color: #696969;}#sk-container-id-2 label.sk-toggleable__label-arrow:hover:before {color: black;}#sk-container-id-2 div.sk-estimator:hover label.sk-toggleable__label-arrow:before {color: black;}#sk-container-id-2 div.sk-toggleable__content {max-height: 0;max-width: 0;overflow: hidden;text-align: left;background-color: #f0f8ff;}#sk-container-id-2 div.sk-toggleable__content pre {margin: 0.2em;color: black;border-radius: 0.25em;background-color: #f0f8ff;}#sk-container-id-2 input.sk-toggleable__control:checked~div.sk-toggleable__content {max-height: 200px;max-width: 100%;overflow: auto;}#sk-container-id-2 input.sk-toggleable__control:checked~label.sk-toggleable__label-arrow:before {content: \"▾\";}#sk-container-id-2 div.sk-estimator input.sk-toggleable__control:checked~label.sk-toggleable__label {background-color: #d4ebff;}#sk-container-id-2 div.sk-label input.sk-toggleable__control:checked~label.sk-toggleable__label {background-color: #d4ebff;}#sk-container-id-2 input.sk-hidden--visually {border: 0;clip: rect(1px 1px 1px 1px);clip: rect(1px, 1px, 1px, 1px);height: 1px;margin: -1px;overflow: hidden;padding: 0;position: absolute;width: 1px;}#sk-container-id-2 div.sk-estimator {font-family: monospace;background-color: #f0f8ff;border: 1px dotted black;border-radius: 0.25em;box-sizing: border-box;margin-bottom: 0.5em;}#sk-container-id-2 div.sk-estimator:hover {background-color: #d4ebff;}#sk-container-id-2 div.sk-parallel-item::after {content: \"\";width: 100%;border-bottom: 1px solid gray;flex-grow: 1;}#sk-container-id-2 div.sk-label:hover label.sk-toggleable__label {background-color: #d4ebff;}#sk-container-id-2 div.sk-serial::before {content: \"\";position: absolute;border-left: 1px solid gray;box-sizing: border-box;top: 0;bottom: 0;left: 50%;z-index: 0;}#sk-container-id-2 div.sk-serial {display: flex;flex-direction: column;align-items: center;background-color: white;padding-right: 0.2em;padding-left: 0.2em;position: relative;}#sk-container-id-2 div.sk-item {position: relative;z-index: 1;}#sk-container-id-2 div.sk-parallel {display: flex;align-items: stretch;justify-content: center;background-color: white;position: relative;}#sk-container-id-2 div.sk-item::before, #sk-container-id-2 div.sk-parallel-item::before {content: \"\";position: absolute;border-left: 1px solid gray;box-sizing: border-box;top: 0;bottom: 0;left: 50%;z-index: -1;}#sk-container-id-2 div.sk-parallel-item {display: flex;flex-direction: column;z-index: 1;position: relative;background-color: white;}#sk-container-id-2 div.sk-parallel-item:first-child::after {align-self: flex-end;width: 50%;}#sk-container-id-2 div.sk-parallel-item:last-child::after {align-self: flex-start;width: 50%;}#sk-container-id-2 div.sk-parallel-item:only-child::after {width: 0;}#sk-container-id-2 div.sk-dashed-wrapped {border: 1px dashed gray;margin: 0 0.4em 0.5em 0.4em;box-sizing: border-box;padding-bottom: 0.4em;background-color: white;}#sk-container-id-2 div.sk-label label {font-family: monospace;font-weight: bold;display: inline-block;line-height: 1.2em;}#sk-container-id-2 div.sk-label-container {text-align: center;}#sk-container-id-2 div.sk-container {/* jupyter's `normalize.less` sets `[hidden] { display: none; }` but bootstrap.min.css set `[hidden] { display: none !important; }` so we also need the `!important` here to be able to override the default hidden behavior on the sphinx rendered scikit-learn.org. See: https://github.com/scikit-learn/scikit-learn/issues/21755 */display: inline-block !important;position: relative;}#sk-container-id-2 div.sk-text-repr-fallback {display: none;}</style><div id=\"sk-container-id-2\" class=\"sk-top-container\"><div class=\"sk-text-repr-fallback\"><pre>LinearRegression()</pre><b>In a Jupyter environment, please rerun this cell to show the HTML representation or trust the notebook. <br />On GitHub, the HTML representation is unable to render, please try loading this page with nbviewer.org.</b></div><div class=\"sk-container\" hidden><div class=\"sk-item\"><div class=\"sk-estimator sk-toggleable\"><input class=\"sk-toggleable__control sk-hidden--visually\" id=\"sk-estimator-id-2\" type=\"checkbox\" checked><label for=\"sk-estimator-id-2\" class=\"sk-toggleable__label sk-toggleable__label-arrow\">LinearRegression</label><div class=\"sk-toggleable__content\"><pre>LinearRegression()</pre></div></div></div></div></div>"
            ]
          },
          "metadata": {},
          "execution_count": 63
        }
      ],
      "source": [
        "modelo = LinearRegression()\n",
        "modelo.fit(X_treino, y_treino)"
      ]
    },
    {
      "cell_type": "code",
      "execution_count": 64,
      "metadata": {
        "colab": {
          "base_uri": "https://localhost:8080/"
        },
        "id": "7NeLbPgJxRhR",
        "outputId": "3a8875fa-3999-4d9d-9592-fba9a6787ba8"
      },
      "outputs": [
        {
          "output_type": "stream",
          "name": "stderr",
          "text": [
            "/usr/local/lib/python3.10/dist-packages/sklearn/base.py:465: UserWarning: X does not have valid feature names, but LinearRegression was fitted with feature names\n",
            "  warnings.warn(\n"
          ]
        }
      ],
      "source": [
        "df_aggregated_filtered['PREDICAO_INTENSIDADE'] = modelo.predict(scala.transform(df_aggregated[['MOVIMENTAÇÃO', 'HORA']]))"
      ]
    },
    {
      "cell_type": "markdown",
      "metadata": {
        "id": "FnTSGEGb08cg"
      },
      "source": [
        "plotando grafico de exemplo com estimativa de luminosidade e por frequencia de movimentação, dados foram gerados de forma aleatoria."
      ]
    },
    {
      "cell_type": "code",
      "execution_count": 68,
      "metadata": {
        "colab": {
          "base_uri": "https://localhost:8080/",
          "height": 707
        },
        "id": "OgsLMrtbb1vY",
        "outputId": "b312b0f6-e7a4-4092-c9a4-52729d057ae7"
      },
      "outputs": [
        {
          "output_type": "display_data",
          "data": {
            "text/plain": [
              "<Figure size 1400x700 with 2 Axes>"
            ],
            "image/png": "[encoded data removed]"
          },
          "metadata": {}
        }
      ],
      "source": [
        "# Visualização\n",
        "plt.figure(figsize=(14, 7))\n",
        "\n",
        "# Gráfico da Estimativa da Intensidade Luminosa\n",
        "plt.subplot(1, 2, 1)\n",
        "plt.plot(df_aggregated_filtered['HORA'], df_aggregated_filtered['PREDICAO_INTENSIDADE'], marker='o', color='blue', label='Estimativa de Intensidade')\n",
        "plt.xlabel('Hora do Dia')\n",
        "plt.ylabel('Intensidade Luminosa Estimada')\n",
        "plt.title('Estimativa da Intensidade Luminosa por Hora')\n",
        "plt.grid(True)\n",
        "plt.legend()\n",
        "\n",
        "# Gráfico da Distribuição das Ocorrências de Movimentação\n",
        "plt.subplot(1, 2, 2)\n",
        "plt.plot(df_aggregated_filtered['HORA'], df_aggregated_filtered['MOVIMENTAÇÃO'], marker='o', color='green', label='Movimentação Média')\n",
        "plt.xlabel('Hora do Dia')\n",
        "plt.ylabel('Movimentação Média')\n",
        "plt.title('Distribuição das Ocorrências de Movimentação por Hora')\n",
        "plt.grid(True)\n",
        "plt.legend()\n",
        "\n",
        "plt.tight_layout()\n",
        "plt.show()"
      ]
    },
    {
      "cell_type": "markdown",
      "source": [
        "os pontos sao representações dos horarios"
      ],
      "metadata": {
        "id": "BjuQRxVjSEgt"
      }
    }
  ],
  "metadata": {
    "colab": {
      "provenance": [],
      "toc_visible": true,
      "authorship_tag": "ABX9TyMW6vdVlJKJsCWo3Dcpslvo",
      "include_colab_link": true
    },
    "kernelspec": {
      "display_name": "Python 3",
      "name": "python3"
    },
    "language_info": {
      "name": "python"
    }
  },
  "nbformat": 4,
  "nbformat_minor": 0
}